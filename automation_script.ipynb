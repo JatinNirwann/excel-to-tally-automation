{
 "cells": [
  {
   "cell_type": "code",
   "execution_count": null,
   "id": "83703da3-17f3-4c9f-9771-a28724bce08a",
   "metadata": {},
   "outputs": [],
   "source": [
    "import pandas as pd\n",
    "import pyautogui as pg\n",
    "import time\n",
    "\n",
    "#PATH FOR EXCEL FILE\n",
    "excel_path = r\"D:\\Development\\Python\\excel-to-tally-automation-using-python\\sample data .xlsx\"\n",
    "\n",
    "#READING DATA FROM EXCEL FILE TO DATAFRAME\n",
    "df = pd.read_excel(excel_path,sheet_name=\"Sheet1\")\n",
    "\n",
    "company_names = df[\"Company Name\"].values\n",
    "gstin_numbers = df[\"GSTIN No.\"].values\n",
    "amounts = df[\"Amount\"].values\n",
    "dates = df[\"Date\"].values\n",
    "\n",
    "# STORING READED DATA INTO TOUPLE\n",
    "zipped = zip(company_names, gstin_numbers, amounts, dates)\n",
    "\n",
    "print(\"PLEASE SWITCH TO THE TALLY WITHIN 10 SECONDS\")\n",
    "time.sleep(10)\n",
    "\n",
    "for (company, gstin, amount, date) in zipped:\n",
    "    pg.typewrite(str(company))\n",
    "    pg.press(\"enter\")\n",
    "    time.sleep(0.5)\n",
    "\n",
    "    pg.typewrite(str(gstin))\n",
    "    pg.press(\"enter\")\n",
    "    time.sleep(0.5)\n",
    "\n",
    "    pg.typewrite(str(amount))\n",
    "    pg.press(\"enter\")\n",
    "    time.sleep(0.5)\n",
    "\n",
    "    pg.typewrite(str(date.strftime('%Y-%m-%d')))  # Format date as YYYY-MM-DD, OR CHANGE AS DESIRED\n",
    "    pg.press(\"enter\")\n",
    "    time.sleep(0.5)\n",
    "\n",
    "    pg.press(\"enter\")\n",
    "    time.sleep(1)  # WAIT BETWEEN ENTRIES\n",
    "\n"
   ]
  }
 ],
 "metadata": {
  "kernelspec": {
   "display_name": "Python 3 (ipykernel)",
   "language": "python",
   "name": "python3"
  },
  "language_info": {
   "codemirror_mode": {
    "name": "ipython",
    "version": 3
   },
   "file_extension": ".py",
   "mimetype": "text/x-python",
   "name": "python",
   "nbconvert_exporter": "python",
   "pygments_lexer": "ipython3",
   "version": "3.11.5"
  }
 },
 "nbformat": 4,
 "nbformat_minor": 5
}
